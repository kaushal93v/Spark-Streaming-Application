{
 "cells": [
  {
   "cell_type": "markdown",
   "metadata": {},
   "source": [
    "# Task A - MongoDB Data Model"
   ]
  },
  {
   "cell_type": "markdown",
   "metadata": {},
   "source": [
    "MongoDB is a document-oriented database. The most important challenge in mongoDB is designing a suitable data model. Data Models are designed to balance the needs of the application and to check the performance charactersitics of database engine. The most important factors need to be considered while designing data models are application's usage of data and inherent structure of data. Hence, the key decision in **designing a data model is to structure the document according to the given data and how the application represents the relationships between data**. In MongoDB, documents can be created in two ways. They are embedded data model and normalized(referencing) data model. The difference between them is how the application is representing the data relationships. \n",
    "\n",
    "If the dataset is really huge, it is good to use reference data model, but in our given case, the data is not really huge and we think embedded data model is good to use. Let's see why. In embedded data model, we can store related data into one single document which **reduces the redundancy of data**, when compared to reference data model. Also, this allows us to **query efficiently and requires fewer updates and data processing**. In the given datasets, climate date attribute is unique, and for each day, there might or might not have several fire incidents happened. Since these two datasets are not so huge, combining them and using only one collection would be much easier to understand and find the related data info. Hence, we decided to use embedded data model.\n",
    "\n",
    "An example of the desired embedded data model should look like:\n",
    "```\n",
    "{'_id': ObjectId('5cdeab0893436941e37eacfb'),\n",
    " 'air_temperature_celcius': 20,\n",
    " 'date': '5/03/2017',\n",
    " 'hotspot': [],\n",
    " 'max_wind_speed': 15.9,\n",
    " 'precipitation': ' 0.00I',\n",
    " 'relative_humidity': 58.8,\n",
    " 'station': 948701,\n",
    " 'windspeed_knots': 11.5}\n",
    "{'_id': ObjectId('5cdeab0893436941e37eacfc'),\n",
    " 'air_temperature_celcius': 20,\n",
    " 'date': '6/03/2017',\n",
    " 'hotspot': [{'confidence': 87,\n",
    "              'datetime': '2017-03-06T05:06:30',\n",
    "              'latitude': -34.3795,\n",
    "              'longitude': 141.6331,\n",
    "              'surface_temperature_celcius': 62},\n",
    "             {'confidence': 85,\n",
    "              'datetime': '2017-03-06T05:06:20',\n",
    "              'latitude': -34.3735,\n",
    "              'longitude': 141.6604,\n",
    "              'surface_temperature_celcius': 59}],\n",
    " 'max_wind_speed': 21.0,\n",
    " 'precipitation': ' 0.00I',\n",
    " 'relative_humidity': 52.9,\n",
    " 'station': 948701,\n",
    " 'windspeed_knots': 17.0}\n",
    "```\n",
    "In the above example, there are two different object types. The first object represents that there is no fire(hotspot) data for the climate date and the second object represents that there are two fire incidents occured on that day."
   ]
  },
  {
   "cell_type": "markdown",
   "metadata": {},
   "source": [
    "# Task B - Querying MongoDB using PyMongo"
   ]
  },
  {
   "cell_type": "markdown",
   "metadata": {},
   "source": [
    "## Question 1"
   ]
  },
  {
   "cell_type": "markdown",
   "metadata": {},
   "source": [
    "In this task, the data is read from csv files and loaded into the newly created mongoDB database. The collection in the database is structured as embedded data model. "
   ]
  },
  {
   "cell_type": "markdown",
   "metadata": {},
   "source": [
    "## Importing libraries"
   ]
  },
  {
   "cell_type": "code",
   "execution_count": null,
   "metadata": {},
   "outputs": [],
   "source": [
    "# importing required packages \n",
    "import pandas as pd\n",
    "import json\n",
    "import pymongo\n",
    "from pymongo import MongoClient\n",
    "from pprint import pprint"
   ]
  },
  {
   "cell_type": "markdown",
   "metadata": {},
   "source": [
    "## Loading and analysing data"
   ]
  },
  {
   "cell_type": "code",
   "execution_count": null,
   "metadata": {},
   "outputs": [],
   "source": [
    "# reading csv files into dataframe using pandas\n",
    "climate = pd.read_csv('climate_historic.csv')\n",
    "hotspot = pd.read_csv('hotspot_historic.csv')"
   ]
  },
  {
   "cell_type": "code",
   "execution_count": null,
   "metadata": {},
   "outputs": [],
   "source": [
    "# detailed information of climate csv\n",
    "climate.info()"
   ]
  },
  {
   "cell_type": "code",
   "execution_count": null,
   "metadata": {},
   "outputs": [],
   "source": [
    "#displaying column names \n",
    "print(climate.columns)\n",
    "print(hotspot.columns)"
   ]
  },
  {
   "cell_type": "code",
   "execution_count": null,
   "metadata": {},
   "outputs": [],
   "source": [
    "# detailed information of hotspot csv\n",
    "hotspot.info()"
   ]
  },
  {
   "cell_type": "code",
   "execution_count": null,
   "metadata": {
    "scrolled": true
   },
   "outputs": [],
   "source": [
    "#printing first 5 rows of climate\n",
    "climate.head()"
   ]
  },
  {
   "cell_type": "code",
   "execution_count": null,
   "metadata": {},
   "outputs": [],
   "source": [
    "#printing first 5 rows of hotspot\n",
    "hotspot.head()"
   ]
  },
  {
   "cell_type": "markdown",
   "metadata": {},
   "source": [
    "## Connection to MongoDB"
   ]
  },
  {
   "cell_type": "code",
   "execution_count": null,
   "metadata": {},
   "outputs": [],
   "source": [
    "# Connect on the default host and port\n",
    "client = MongoClient()\n",
    "\n",
    "# getting database to connect\n",
    "db = client.fit5148_assignment_db"
   ]
  },
  {
   "cell_type": "code",
   "execution_count": null,
   "metadata": {},
   "outputs": [],
   "source": [
    "#printing database names\n",
    "print(client.list_database_names())"
   ]
  },
  {
   "cell_type": "markdown",
   "metadata": {},
   "source": [
    "## Creation of documents (Embedded data model)"
   ]
  },
  {
   "cell_type": "code",
   "execution_count": null,
   "metadata": {},
   "outputs": [],
   "source": [
    "# list to store all the documents\n",
    "list_final = []\n",
    "#iterating by each row in climate table\n",
    "for index,row in climate.iterrows():\n",
    "    #Structuring the data model\n",
    "    final_dic = dict() #store the climate data into dictionary\n",
    "    final_dic['station'] = row[0]\n",
    "    final_dic['air_temperature_celcius'] = row[2]\n",
    "    final_dic['relative_humidity'] = row[3]\n",
    "    final_dic['windspeed_knots'] = row[4]\n",
    "    final_dic['max_wind_speed'] = row[5]\n",
    "    final_dic['precipitation'] = row[6]\n",
    "    final_dic['date'] = row[1]\n",
    "    \n",
    "    #find the corresponding hotspot data for specific climate date\n",
    "    hotspot_sub = hotspot[hotspot['date']==row[1]]\n",
    "    hotspot_dicts = [] #store the hotspot data for each climate date\n",
    "    # iterating by each row in hotspot subset table\n",
    "    for index,row in hotspot_sub.iterrows():\n",
    "        dic2 = dict()\n",
    "        dic2['latitude'] = row[0]\n",
    "        dic2['longitude'] = row[1]\n",
    "        dic2['datetime'] = row[2]\n",
    "        dic2['confidence'] = row[3]\n",
    "        dic2['surface_temperature_celcius'] = row[5]\n",
    "        hotspot_dicts.append(dic2)\n",
    "    final_dic['hotspot'] = hotspot_dicts #assign hotspot data to dictionary\n",
    "    list_final.append(final_dic) #append each document to a list"
   ]
  },
  {
   "cell_type": "code",
   "execution_count": null,
   "metadata": {},
   "outputs": [],
   "source": [
    "#printing one document to check \n",
    "list_final[0:2]"
   ]
  },
  {
   "cell_type": "markdown",
   "metadata": {},
   "source": [
    "## Insertion of documents into MongoDB"
   ]
  },
  {
   "cell_type": "code",
   "execution_count": null,
   "metadata": {},
   "outputs": [],
   "source": [
    "#create a collection \n",
    "clim_hotspot = db.ClimateHostspot"
   ]
  },
  {
   "cell_type": "code",
   "execution_count": null,
   "metadata": {},
   "outputs": [],
   "source": [
    "#dropping if there is any data in collection\n",
    "clim_hotspot.drop()"
   ]
  },
  {
   "cell_type": "code",
   "execution_count": null,
   "metadata": {},
   "outputs": [],
   "source": [
    "#inserting documents into the collection\n",
    "clim_hotspot.insert_many(list_final)"
   ]
  },
  {
   "cell_type": "code",
   "execution_count": null,
   "metadata": {},
   "outputs": [],
   "source": [
    "#counting the number of documents in the collection\n",
    "clim_hotspot.find().count()"
   ]
  },
  {
   "cell_type": "code",
   "execution_count": null,
   "metadata": {},
   "outputs": [],
   "source": [
    "#printing documents in a pretty manner using pprint package from the database\n",
    "documents = clim_hotspot.find({})\n",
    "for doc in documents:\n",
    "    pprint(doc)"
   ]
  },
  {
   "cell_type": "markdown",
   "metadata": {},
   "source": [
    "## Question-2"
   ]
  },
  {
   "cell_type": "markdown",
   "metadata": {},
   "source": [
    "## a) Finding climate data on 10th Dec 2017"
   ]
  },
  {
   "cell_type": "code",
   "execution_count": null,
   "metadata": {},
   "outputs": [],
   "source": [
    "data = clim_hotspot.find({ \"date\": \"10/12/2017\" },{\"_id\": 0, \"hotspot\": 0})\n",
    "for rec in data:\n",
    "    pprint(rec)"
   ]
  },
  {
   "cell_type": "markdown",
   "metadata": {},
   "source": [
    "## b) Finding the latitude, longitude, surface temp, confidence when surface temp is between 65 and 100 "
   ]
  },
  {
   "cell_type": "markdown",
   "metadata": {},
   "source": [
    "### Surface temp values of both 65 and 100 are included in the query search"
   ]
  },
  {
   "cell_type": "code",
   "execution_count": null,
   "metadata": {},
   "outputs": [],
   "source": [
    "data = clim_hotspot.aggregate([{\"$unwind\":\"$hotspot\"},\n",
    "                                {\"$match\":{\"$and\":[{\"hotspot.surface_temperature_celcius\":{\"$gte\":65}},\n",
    "                                                  {\"hotspot.surface_temperature_celcius\":{\"$lte\":100}}]}},\n",
    "                                {\"$project\":{\"_id\":0,\"hotspot.latitude\":1,\"hotspot.longitude\":1,\n",
    "                                             \"hotspot.surface_temperature_celcius\":1,\"hotspot.confidence\":1}}\n",
    "                               ])\n",
    "for rec in data:\n",
    "    pprint(rec)"
   ]
  },
  {
   "cell_type": "markdown",
   "metadata": {},
   "source": [
    "## c) Finding date, surface temp, air temp, max wind speed, relative humidity on 15th and 16th Dec 2017"
   ]
  },
  {
   "cell_type": "code",
   "execution_count": null,
   "metadata": {},
   "outputs": [],
   "source": [
    "data = clim_hotspot.find({\"$or\": [{\"date\": \"15/12/2017\"},{\"date\":\"16/12/2017\"}] },\n",
    "                          {\"_id\": 0, \"date\":1,\"hotspot.surface_temperature_celcius\": 1,\"air_temperature_celcius\":1,\n",
    "                          \"relative_humidity\":1,\"max_wind_speed\":1})\n",
    "for rec in data:\n",
    "    pprint(rec)"
   ]
  },
  {
   "cell_type": "markdown",
   "metadata": {},
   "source": [
    "## d) Finding air temp, confidence, datetime, surface temp when confidence is between 80 and 100. "
   ]
  },
  {
   "cell_type": "markdown",
   "metadata": {},
   "source": [
    "### Both confidence values 80 and 100 are included in the query search"
   ]
  },
  {
   "cell_type": "code",
   "execution_count": null,
   "metadata": {},
   "outputs": [],
   "source": [
    "data = clim_hotspot.aggregate([{\"$unwind\":\"$hotspot\"},\n",
    "                                {\"$match\":{\"$and\":[{\"hotspot.confidence\":{\"$gte\":80}},\n",
    "                                                  {\"hotspot.confidence\":{\"$lte\":100}}]}},\n",
    "                                {\"$project\":{\"_id\":0,\"hotspot.datetime\":1,\"air_temperature_celcius\":1,\n",
    "                                             \"hotspot.surface_temperature_celcius\":1,\"hotspot.confidence\":1}}\n",
    "                               ])\n",
    "for rec in data:\n",
    "    pprint(rec)"
   ]
  },
  {
   "cell_type": "markdown",
   "metadata": {},
   "source": [
    "## e) Finding the top 10 records for highest surface temperature"
   ]
  },
  {
   "cell_type": "code",
   "execution_count": null,
   "metadata": {},
   "outputs": [],
   "source": [
    "data = clim_hotspot.aggregate([{\"$unwind\":\"$hotspot\"},\n",
    "                                {\"$sort\":{\"hotspot.surface_temperature_celcius\":-1}},\n",
    "                                {\"$project\":{\"_id\":0}},\n",
    "                                {\"$limit\":10}\n",
    "                               ])\n",
    "for rec in data:\n",
    "    pprint(rec)"
   ]
  },
  {
   "cell_type": "markdown",
   "metadata": {},
   "source": [
    "## f) Finding the number of fires in each day"
   ]
  },
  {
   "cell_type": "code",
   "execution_count": null,
   "metadata": {},
   "outputs": [],
   "source": [
    "data = clim_hotspot.aggregate([{\"$unwind\":\"$hotspot\"},\n",
    "                                {\"$group\":{\"_id\":\"$date\",\"count\":{\"$sum\":1}}}                            \n",
    "                               ])\n",
    "for rec in data: \n",
    "    pprint(rec)"
   ]
  },
  {
   "cell_type": "markdown",
   "metadata": {},
   "source": [
    "## g) Finding the average surface temp for each day"
   ]
  },
  {
   "cell_type": "code",
   "execution_count": null,
   "metadata": {},
   "outputs": [],
   "source": [
    "data = clim_hotspot.aggregate([{\"$unwind\":\"$hotspot\"},\n",
    "                                {\"$group\":{\"_id\":\"$date\",\"avg_surf_temp\":{\"$avg\":\"$hotspot.surface_temperature_celcius\"}}}                            \n",
    "                               ])\n",
    "for rec in data:\n",
    "    pprint(rec)"
   ]
  }
 ],
 "metadata": {
  "kernelspec": {
   "display_name": "Python 3",
   "language": "python",
   "name": "python3"
  },
  "language_info": {
   "codemirror_mode": {
    "name": "ipython",
    "version": 3
   },
   "file_extension": ".py",
   "mimetype": "text/x-python",
   "name": "python",
   "nbconvert_exporter": "python",
   "pygments_lexer": "ipython3",
   "version": "3.6.1"
  }
 },
 "nbformat": 4,
 "nbformat_minor": 2
}
