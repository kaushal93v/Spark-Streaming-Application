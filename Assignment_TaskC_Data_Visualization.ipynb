{
 "cells": [
  {
   "cell_type": "markdown",
   "metadata": {},
   "source": [
    "# Task 3a Streaming Data Visualization"
   ]
  },
  {
   "cell_type": "markdown",
   "metadata": {},
   "source": [
    "## Importing libraries"
   ]
  },
  {
   "cell_type": "code",
   "execution_count": null,
   "metadata": {},
   "outputs": [],
   "source": [
    "# import statements\n",
    "from time import sleep\n",
    "from kafka import KafkaConsumer\n",
    "import datetime as dt\n",
    "import matplotlib.pyplot as plt\n",
    "import ast"
   ]
  },
  {
   "cell_type": "code",
   "execution_count": null,
   "metadata": {},
   "outputs": [],
   "source": [
    "# this line is needed for the inline display of graphs in Jupyter Notebook\n",
    "%matplotlib notebook\n",
    "\n",
    "topic = 'Climate_Hotpot_Streaming' #Topic name from the producers\n",
    "\n",
    "#show maximum value\n",
    "def annotate_max(x, y, ax = None):\n",
    "    ymax = max(y)\n",
    "    xpos = y.index(ymax)\n",
    "    xmax = x[xpos]\n",
    "    text = 'Max: Time={}, Value={}'.format(xmax, ymax)\n",
    "    if not ax:\n",
    "        ax=plt.gca()\n",
    "    ax.annotate(text, xy=(xmax, ymax), xytext=(xmax, ymax+5), arrowprops=dict(facecolor='red', shrink=0.05),)\n",
    "    \n",
    "#show minimum value    \n",
    "def annotate_min(x, y, ax = None):\n",
    "    ymin = min(y)\n",
    "    xpos = y.index(ymin)\n",
    "    xmin = x[xpos]\n",
    "    text = 'Min: Time={}, Value={}'.format(xmin, ymin)\n",
    "    if not ax:\n",
    "        ax=plt.gca()\n",
    "    ax.annotate(text, xy=(xmin, ymin), xytext=(xmin, ymin+5), arrowprops=dict(facecolor='orange', shrink=0.05),)\n",
    "\n",
    "def connect_kafka_consumer():\n",
    "    _consumer = None\n",
    "    try:\n",
    "         _consumer = KafkaConsumer(topic,\n",
    "                                   consumer_timeout_ms=10000, # stop iteration if no message after 10 sec\n",
    "                                   auto_offset_reset='earliest', # comment this if you don't want to consume earliest available message\n",
    "                                   bootstrap_servers=['localhost:9092'],\n",
    "                                   api_version=(0, 10))\n",
    "    except Exception as ex:\n",
    "        print('Exception while connecting Kafka')\n",
    "        print(str(ex))\n",
    "    finally:\n",
    "        return _consumer\n",
    "\n",
    "#drow diagram\n",
    "def init_plots():\n",
    "    try:\n",
    "        width = 9.5\n",
    "        height = 6\n",
    "        fig = plt.figure(figsize=(width,height)) # create new figure\n",
    "        ax = fig.add_subplot(111) # adding the subplot axes to the given grid position\n",
    "        fig.suptitle('Real-time uniform stream data visualization') # giving figure a title\n",
    "        ax.set_xlabel('Time')\n",
    "        ax.set_ylabel('Value')\n",
    "        ax.set_ylim(0,110) \n",
    "        ax.set_yticks([0,20,40,60,80,100])\n",
    "        fig.show() # displaying the figure\n",
    "        fig.canvas.draw() # drawing on the canvas\n",
    "        return fig, ax\n",
    "    except Exception as ex:\n",
    "        print(str(ex))\n",
    "    \n",
    "def consume_messages(consumer, fig, ax):\n",
    "    try:\n",
    "        # container for x and y values\n",
    "        x, y = [], []\n",
    "        # print('Waiting for messages')\n",
    "        for message in consumer:\n",
    "            data = message.value.decode('utf-8')\n",
    "            #make data into dictionary types\n",
    "            dic_data = ast.literal_eval(data)\n",
    "            #only do the data from producer1\n",
    "            if dic_data['sender_id']=='messenger_1':\n",
    "                #get the data time as x, and air temperature as y\n",
    "                x.append(dic_data['time'])\n",
    "                y.append(dic_data['air_temperature_celcius'])\n",
    "            # we start plotting only when we have 10 data points\n",
    "            if len(y) > 10:\n",
    "                ax.clear()\n",
    "                ax.plot(x, y)\n",
    "                ax.set_xlabel('Time')\n",
    "                ax.set_ylabel('Value')\n",
    "                ax.set_ylim(0,110) \n",
    "                ax.set_yticks([0,20,40,60,80,100])\n",
    "                annotate_max(x,y)\n",
    "                annotate_min(x,y)\n",
    "                fig.canvas.draw()\n",
    "                x.pop(0) # removing the item in the first position\n",
    "                y.pop(0)\n",
    "        plt.close('all')\n",
    "    except Exception as ex:\n",
    "        print('errer'+str(ex))\n",
    "    \n",
    "if __name__ == '__main__':\n",
    "    consumer = connect_kafka_consumer()\n",
    "    fig, ax = init_plots()\n",
    "    consume_messages(consumer, fig, ax)\n",
    "    "
   ]
  },
  {
   "cell_type": "markdown",
   "metadata": {},
   "source": [
    "# Task 3b Static Data Visualization"
   ]
  },
  {
   "cell_type": "markdown",
   "metadata": {},
   "source": [
    "## Importing libraries"
   ]
  },
  {
   "cell_type": "code",
   "execution_count": 36,
   "metadata": {},
   "outputs": [],
   "source": [
    "# importing required packages \n",
    "import pandas as pd\n",
    "import json\n",
    "import pymongo\n",
    "from pymongo import MongoClient\n",
    "from pprint import pprint\n",
    "from collections import Counter\n",
    "import matplotlib.pyplot as plt\n",
    "import gmplot\n",
    "import webbrowser"
   ]
  },
  {
   "cell_type": "markdown",
   "metadata": {},
   "source": [
    "## Connection to MongoDB "
   ]
  },
  {
   "cell_type": "code",
   "execution_count": 37,
   "metadata": {},
   "outputs": [],
   "source": [
    "# Connect on the default host and port\n",
    "client = MongoClient()\n",
    "\n",
    "# getting database to connect\n",
    "db = client.fit5148_assignment_db"
   ]
  },
  {
   "cell_type": "code",
   "execution_count": 38,
   "metadata": {},
   "outputs": [],
   "source": [
    "#create a collection \n",
    "clim_hotspot = db.ClimateHostspot"
   ]
  },
  {
   "cell_type": "markdown",
   "metadata": {},
   "source": [
    "## i) Plotting bar chart with time as x-axis and the number of fires as y-axis"
   ]
  },
  {
   "cell_type": "markdown",
   "metadata": {},
   "source": [
    "In this section as advised in the lecture, we are considering the historic data from the mongoDB database and performing data visualizations. "
   ]
  },
  {
   "cell_type": "code",
   "execution_count": 39,
   "metadata": {},
   "outputs": [],
   "source": [
    "#creating a list to store all the timestamps\n",
    "times = []\n",
    "for rec in clim_hotspot.find(): #for every document in collection\n",
    "    if rec['hotspot']==[]: \n",
    "        continue\n",
    "    else: # if there is any fire incident (hotspot is not empty)\n",
    "        for dic in rec['hotspot']: #for every record in hotspot\n",
    "            times.append(dic['datetime'].split('T')[1]) #split the datetime to get time attribute"
   ]
  },
  {
   "cell_type": "code",
   "execution_count": 40,
   "metadata": {},
   "outputs": [],
   "source": [
    "temp = Counter(times) # calculating frequency for each unique time using Counter in collections package\n",
    "df = pd.DataFrame(data = temp.items()) #inserting the data into dataframe\n",
    "df.columns = ['Timestamp','Count'] #naming the columns\n",
    "top10 = df.sort_values(by='Count', ascending=False) #sorting the data in the Count column\n",
    "top10.reset_index(inplace = True) # resetting the index of df\n",
    "top10 = top10.head(10) #taking the top 10 fires"
   ]
  },
  {
   "cell_type": "code",
   "execution_count": 41,
   "metadata": {},
   "outputs": [
    {
     "data": {
      "text/html": [
       "<div>\n",
       "<style scoped>\n",
       "    .dataframe tbody tr th:only-of-type {\n",
       "        vertical-align: middle;\n",
       "    }\n",
       "\n",
       "    .dataframe tbody tr th {\n",
       "        vertical-align: top;\n",
       "    }\n",
       "\n",
       "    .dataframe thead th {\n",
       "        text-align: right;\n",
       "    }\n",
       "</style>\n",
       "<table border=\"1\" class=\"dataframe\">\n",
       "  <thead>\n",
       "    <tr style=\"text-align: right;\">\n",
       "      <th></th>\n",
       "      <th>index</th>\n",
       "      <th>Timestamp</th>\n",
       "      <th>Count</th>\n",
       "    </tr>\n",
       "  </thead>\n",
       "  <tbody>\n",
       "    <tr>\n",
       "      <th>0</th>\n",
       "      <td>228</td>\n",
       "      <td>04:44:50</td>\n",
       "      <td>184</td>\n",
       "    </tr>\n",
       "    <tr>\n",
       "      <th>1</th>\n",
       "      <td>560</td>\n",
       "      <td>04:26:30</td>\n",
       "      <td>171</td>\n",
       "    </tr>\n",
       "    <tr>\n",
       "      <th>2</th>\n",
       "      <td>512</td>\n",
       "      <td>04:08:10</td>\n",
       "      <td>76</td>\n",
       "    </tr>\n",
       "    <tr>\n",
       "      <th>3</th>\n",
       "      <td>628</td>\n",
       "      <td>04:44:40</td>\n",
       "      <td>74</td>\n",
       "    </tr>\n",
       "    <tr>\n",
       "      <th>4</th>\n",
       "      <td>256</td>\n",
       "      <td>04:20:40</td>\n",
       "      <td>57</td>\n",
       "    </tr>\n",
       "    <tr>\n",
       "      <th>5</th>\n",
       "      <td>278</td>\n",
       "      <td>04:26:20</td>\n",
       "      <td>54</td>\n",
       "    </tr>\n",
       "    <tr>\n",
       "      <th>6</th>\n",
       "      <td>438</td>\n",
       "      <td>04:02:20</td>\n",
       "      <td>49</td>\n",
       "    </tr>\n",
       "    <tr>\n",
       "      <th>7</th>\n",
       "      <td>129</td>\n",
       "      <td>04:14:20</td>\n",
       "      <td>40</td>\n",
       "    </tr>\n",
       "    <tr>\n",
       "      <th>8</th>\n",
       "      <td>364</td>\n",
       "      <td>04:26:50</td>\n",
       "      <td>38</td>\n",
       "    </tr>\n",
       "    <tr>\n",
       "      <th>9</th>\n",
       "      <td>492</td>\n",
       "      <td>04:38:40</td>\n",
       "      <td>34</td>\n",
       "    </tr>\n",
       "  </tbody>\n",
       "</table>\n",
       "</div>"
      ],
      "text/plain": [
       "   index Timestamp  Count\n",
       "0    228  04:44:50    184\n",
       "1    560  04:26:30    171\n",
       "2    512  04:08:10     76\n",
       "3    628  04:44:40     74\n",
       "4    256  04:20:40     57\n",
       "5    278  04:26:20     54\n",
       "6    438  04:02:20     49\n",
       "7    129  04:14:20     40\n",
       "8    364  04:26:50     38\n",
       "9    492  04:38:40     34"
      ]
     },
     "execution_count": 41,
     "metadata": {},
     "output_type": "execute_result"
    }
   ],
   "source": [
    "# printing the top 10 fires\n",
    "top10"
   ]
  },
  {
   "cell_type": "code",
   "execution_count": 42,
   "metadata": {},
   "outputs": [
    {
     "data": {
      "image/png": "[encoded data removed]",
      "text/plain": [
       "<Figure size 432x288 with 1 Axes>"
      ]
     },
     "metadata": {},
     "output_type": "display_data"
    }
   ],
   "source": [
    "#plotting a bar chart using matplotlib\n",
    "plt.bar(list(top10['Timestamp']),list(top10['Count']))\n",
    "plt.xticks(rotation = 70)\n",
    "plt.xlabel('Time')\n",
    "plt.ylabel('Number of Fires')\n",
    "plt.title('Top 10 Number of Fires with respect to Time')\n",
    "plt.show()"
   ]
  },
  {
   "cell_type": "markdown",
   "metadata": {},
   "source": [
    "## ii) Plotting fire locations on the map"
   ]
  },
  {
   "cell_type": "markdown",
   "metadata": {},
   "source": [
    "In this section as advised in the lecture, we are considering the historic data from the mongoDB database and performing data visualizations. "
   ]
  },
  {
   "cell_type": "code",
   "execution_count": 43,
   "metadata": {},
   "outputs": [],
   "source": [
    "# Google’s geocoding service enabling map initilization to the location of your choice.\n",
    "gmap = gmplot.GoogleMapPlotter(-37.812015244225677, 144.951471202974, 10) # latitude and longitude of melbourne city"
   ]
  },
  {
   "cell_type": "code",
   "execution_count": 44,
   "metadata": {},
   "outputs": [],
   "source": [
    "latlong = [] #storing lat long values as a tuple for every fire\n",
    "tooltips = [] #storing tooltip info for every fire\n",
    "for rec in clim_hotspot.find(): #for every document in mongoDB\n",
    "    if rec['hotspot']==[]:\n",
    "        continue\n",
    "    else: #if there is any fire data(hotspot\n",
    "        for dic in rec['hotspot']: #for each record in hotspot\n",
    "            latlong.append((float(dic['latitude']), float(dic['longitude']))) #append lat long values to list\n",
    "            tooltips.append((dic['surface_temperature_celcius'],dic['confidence'],\n",
    "                          rec['air_temperature_celcius'],rec['relative_humidity'])) #create a tooltip to display for the marker"
   ]
  },
  {
   "cell_type": "code",
   "execution_count": 45,
   "metadata": {},
   "outputs": [],
   "source": [
    "# The step below is required by the gmap scatter function to prepare data in correct format\n",
    "lats, longs = zip(*latlong) \n",
    "\n",
    "# Plotting the points on the map\n",
    "for i in range(len(tooltips)):\n",
    "    # create text tooltip for each marker\n",
    "    text = 'Surface Temp: ' + str(tooltips[i][0]) + ' ,Confidence: ' + str(tooltips[i][1]) + ' ,Air Temp: ' + str(tooltips[i][2]) + ' ,Relative Humidity: ' + str(tooltips[i][3])\n",
    "    gmap.marker(latlong[i][0], latlong[i][1], title = text) #create marker on the map"
   ]
  },
  {
   "cell_type": "code",
   "execution_count": 46,
   "metadata": {},
   "outputs": [
    {
     "data": {
      "text/plain": [
       "True"
      ]
     },
     "execution_count": 46,
     "metadata": {},
     "output_type": "execute_result"
    }
   ],
   "source": [
    "# Displaying the map\n",
    "gmap.draw(\"FireLocations.html\")\n",
    "webbrowser.open_new(\"FireLocations.html\")"
   ]
  }
 ],
 "metadata": {
  "kernelspec": {
   "display_name": "Python 3",
   "language": "python",
   "name": "python3"
  },
  "language_info": {
   "codemirror_mode": {
    "name": "ipython",
    "version": 3
   },
   "file_extension": ".py",
   "mimetype": "text/x-python",
   "name": "python",
   "nbconvert_exporter": "python",
   "pygments_lexer": "ipython3",
   "version": "3.6.1"
  }
 },
 "nbformat": 4,
 "nbformat_minor": 2
}
